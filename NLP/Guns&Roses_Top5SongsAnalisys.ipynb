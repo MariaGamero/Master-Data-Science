{
 "cells": [
  {
   "cell_type": "markdown",
   "metadata": {},
   "source": [
    "### Import libraries "
   ]
  },
  {
   "cell_type": "code",
   "execution_count": 241,
   "metadata": {},
   "outputs": [],
   "source": [
    "import nltk\n",
    "from nltk.corpus import stopwords\n",
    "from textblob import TextBlob\n",
    "import pandas as pd\n",
    "import matplotlib as plt\n",
    "matplotlib.style.use('ggplot')\n",
    "%matplotlib inline\n",
    "from pylab import*"
   ]
  },
  {
   "cell_type": "markdown",
   "metadata": {},
   "source": [
    "### Load the file/s"
   ]
  },
  {
   "cell_type": "code",
   "execution_count": 3,
   "metadata": {},
   "outputs": [],
   "source": [
    "path=\"data/\""
   ]
  },
  {
   "cell_type": "code",
   "execution_count": 4,
   "metadata": {},
   "outputs": [
    {
     "name": "stdout",
     "output_type": "stream",
     "text": [
      "total 20\r\n",
      "4 lyric_five.txt  4 lyric_one.txt    4 lyric_two.txt\r\n",
      "4 lyric_four.txt  4 lyric_three.txt\r\n"
     ]
    }
   ],
   "source": [
    "!ls -s {path}"
   ]
  },
  {
   "cell_type": "code",
   "execution_count": 8,
   "metadata": {},
   "outputs": [],
   "source": [
    "files = [\"lyric_one.txt\",\"lyric_two.txt\",\"lyric_three.txt\", \"lyric_four.txt\",\"lyric_five.txt\"]\n",
    "\n",
    "texto = \" \"\n",
    "for element in files:\n",
    "    with open(path+element,\"r\") as f:\n",
    "        a=f.read()\n",
    "        texto=texto+a\n",
    "\n",
    "texto= texto.replace(\"\\n\",\" \")"
   ]
  },
  {
   "cell_type": "code",
   "execution_count": 30,
   "metadata": {},
   "outputs": [
    {
     "data": {
      "text/plain": [
       "TextBlob(\" Welcome To The Jungle  Welcome to the jungle We've got fun 'n' games We got everything you want Honey, we know the names We are the people that can find Whatever you may need If you got the money, honey, We got your disease  [Chorus:] In the jungle Welcome to the jungle Watch it bring you to your Knees, knees I wanna watch you bleed  Welcome to the jungle We take it day by day If you want it you're gonna bleed But it's the price you pay And you're a very sexy girl That's very hard to please You can taste the bright lights But you won't get them for free  In the jungle Welcome to the jungle Feel my, my, my serpentine I, I wanna hear you scream  Welcome to the jungle It gets worse here everyday Ya learn ta live like an animal In the jungle where we play If you got a hunger for what you see You'll take it eventually You can have anything you want But you better not take it from me  [Chorus:] In the jungle Welcome to the jungle Watch it bring you to your Knees, knees I'm gonna watch you bleed  And when you're high you never Ever want to come down, so down, down, yeah!  You know where you are? You're in the jungle, baby You're gonna die  In the jungle Welcome to the jungle Watch it bring you to your Knees, knees  In the jungle Welcome to the jungle Feel my, my, my serpentine  In the jungle Welcome to the jungle Watch it bring you to your Knees, knees  In the jungle Welcome to the jungle Watch it bring you t o your...  It's gonna bring you down Ha!      Knocking On Heaven's Door  Mama, take this badge from me I can't use it anymore It's getting dark, too dark to see Feels like I'm knockin' on heaven's door  Knock-knock-knockin' on heaven's door Knock-knock-knockin' on heaven's door Knock-knock-knockin' on heaven's door Knock-knock-knockin' on heaven's door  Mama, put my guns in the ground I can't shoot them anymore That cold black cloud is comin' down Feels like I'm knockin' on heaven's door  Knock-knock-knockin' on heaven's door Knock-knock-knockin' on heaven's door Knock-knock-knockin' on heaven's door Knock-knock-knockin' on heaven's door  \"You just better start sniffin' your own rank subjugation Jack 'Cause it's just you against your tattered libido, the bank and the mortician forever, man. And it wouldn't be luck if you could get out of life alive.\"  Knock-knock-knockin' on heaven's door         Don't Cry  Talk to me softly There's something in your eyes Don't hang your head in sorrow And please don't cry I know how you feel inside I've I've been there before Something's changin' inside you And don't you know  Don't you cry tonight I still love you baby Don't you cry tonight Don't you cry tonight There's a heaven above you baby And don't you cry tonight  Give me a whisper And give me a sigh Give me a kiss before you Tell me goodbye Don't you take it so hard now And please don't take it so bad I'll still be thinkin' of you And the times we had...baby  And don't you cry tonight Don't you cry tonight Don't you cry tonight There's a heaven above you baby And don't you cry tonight  And please remember that I never lied And please remember How I felt inside now honey You gotta make it your own way But you'll be alright now sugar You'll feel better tomorrow Come the morning light now baby  And don't you cry tonight And don't you cry tonight And don't you cry tonight There's a heaven above you baby And don't you cry Don't you ever cry Don't you cry tonight Baby maybe someday Don't you cry Don't you ever cry Don't you cry Tonight            Sweet Child O' Mine  She's got a smile that it seems to me Reminds me of childhood memories Where everything Was as fresh as the bright blue sky  Now and then when I see her face It takes me away to that special place And if I stared too long I'd probably break down and cry  Sweet child o' mine Sweet love of mine  She's got eyes of the bluest skies As if they thought of rain I'd hate to look into those eyes And see an ounce of pain  Her hair reminds me of a warm safe place Where as a child I'd hide And pray for the thunder and the rain To quietly pass me by  Sweet child o' mine Sweet love of mine  Sweet child o' mine Sweet love of mine  Sweet child o' mine Sweet love of mine  Where do we go? Where do we go now? Where do we go?  Where do we go? Where do we go? Where do we go now?  Where do we go? Sweet child o' mine Where do we go now?  Where do we go? Where do we go? Where do we go now?  Where do we go? Where do we go now? Where do we go? Where do we go now?  Where do we go? Where do we go no w, now, now, now, now, now, now now?  Sweet child, sweet child o' mine                November Rain\"  When I look into your eyes I can see a love restrained But darlin' when I hold you Don't you know I feel the same  'Cause nothin' lasts forever And we both know hearts can change And it's hard to hold a candle In the cold November rain  We've been through this such a long long time Just tryin' to kill the pain  But lovers always come and lovers always go And no one's really sure who's lettin' go today Walking away  If we could take the time To lay it on the line I could rest my head Just knowin' that you were mine All mine So if you want to love me Then darlin' don't refrain Or I'll just end up walkin' In the cold November rain  Do you need some time...on your own Do you need some time...all alone Everybody needs some time... on their own Don't you know you need some time...all alone  I know it's hard to keep an open heart When even friends seem out to harm you But if you could heal a broken heart Wouldn't time be out to charm you  Sometimes I need some time...on my own Sometimes I need some time...all alone Everybody needs some time... on their own Don't you know you need some time...all alone  And when your fears subside And shadows still remain I know that you can love me When there's no one left to blame So never mind the darkness We still can find a way 'Cause nothin' lasts forever Even cold November rain  Don't ya think that you need somebody Don't ya think that you need someone Everybody ne eds somebody You're not the only one You're not the only one                  \")"
      ]
     },
     "execution_count": 30,
     "metadata": {},
     "output_type": "execute_result"
    }
   ],
   "source": [
    "t = TextBlob(texto)\n",
    "t"
   ]
  },
  {
   "cell_type": "markdown",
   "metadata": {},
   "source": [
    "### Split the text into words"
   ]
  },
  {
   "cell_type": "code",
   "execution_count": 39,
   "metadata": {},
   "outputs": [
    {
     "name": "stdout",
     "output_type": "stream",
     "text": [
      "['Welcome', 'To', 'The', 'Jungle', 'Welcome', 'to', 'the', 'jungle', 'We', \"'ve\", 'got', 'fun', \"'n\", 'games', 'We', 'got', 'everything', 'you', 'want', 'Honey', 'we', 'know', 'the', 'names', 'We', 'are', 'the', 'people', 'that', 'can', 'find', 'Whatever', 'you', 'may', 'need', 'If', 'you', 'got', 'the', 'money', 'honey', 'We', 'got', 'your', 'disease', 'Chorus', 'In', 'the', 'jungle', 'Welcome', 'to', 'the', 'jungle', 'Watch', 'it', 'bring', 'you', 'to', 'your', 'Knees', 'knees', 'I', 'wan', 'na', 'watch', 'you', 'bleed', 'Welcome', 'to', 'the', 'jungle', 'We', 'take', 'it', 'day', 'by', 'day', 'If', 'you', 'want', 'it', 'you', \"'re\", 'gon', 'na', 'bleed', 'But', 'it', \"'s\", 'the', 'price', 'you', 'pay', 'And', 'you', \"'re\", 'a', 'very', 'sexy', 'girl', 'That', \"'s\", 'very', 'hard', 'to', 'please', 'You', 'can', 'taste', 'the', 'bright', 'lights', 'But', 'you', 'wo', \"n't\", 'get', 'them', 'for', 'free', 'In', 'the', 'jungle', 'Welcome', 'to', 'the', 'jungle', 'Feel', 'my', 'my', 'my', 'serpentine', 'I', 'I', 'wan', 'na', 'hear', 'you', 'scream', 'Welcome', 'to', 'the', 'jungle', 'It', 'gets', 'worse', 'here', 'everyday', 'Ya', 'learn', 'ta', 'live', 'like', 'an', 'animal', 'In', 'the', 'jungle', 'where', 'we', 'play', 'If', 'you', 'got', 'a', 'hunger', 'for', 'what', 'you', 'see', 'You', \"'ll\", 'take', 'it', 'eventually', 'You', 'can', 'have', 'anything', 'you', 'want', 'But', 'you', 'better', 'not', 'take', 'it', 'from', 'me', 'Chorus', 'In', 'the', 'jungle', 'Welcome', 'to', 'the', 'jungle', 'Watch', 'it', 'bring', 'you', 'to', 'your', 'Knees', 'knees', 'I', \"'m\", 'gon', 'na', 'watch', 'you', 'bleed', 'And', 'when', 'you', \"'re\", 'high', 'you', 'never', 'Ever', 'want', 'to', 'come', 'down', 'so', 'down', 'down', 'yeah', 'You', 'know', 'where', 'you', 'are', 'You', \"'re\", 'in', 'the', 'jungle', 'baby', 'You', \"'re\", 'gon', 'na', 'die', 'In', 'the', 'jungle', 'Welcome', 'to', 'the', 'jungle', 'Watch', 'it', 'bring', 'you', 'to', 'your', 'Knees', 'knees', 'In', 'the', 'jungle', 'Welcome', 'to', 'the', 'jungle', 'Feel', 'my', 'my', 'my', 'serpentine', 'In', 'the', 'jungle', 'Welcome', 'to', 'the', 'jungle', 'Watch', 'it', 'bring', 'you', 'to', 'your', 'Knees', 'knees', 'In', 'the', 'jungle', 'Welcome', 'to', 'the', 'jungle', 'Watch', 'it', 'bring', 'you', 't', 'o', 'your', 'It', \"'s\", 'gon', 'na', 'bring', 'you', 'down', 'Ha', 'Knocking', 'On', 'Heaven', \"'s\", 'Door', 'Mama', 'take', 'this', 'badge', 'from', 'me', 'I', 'ca', \"n't\", 'use', 'it', 'anymore', 'It', \"'s\", 'getting', 'dark', 'too', 'dark', 'to', 'see', 'Feels', 'like', 'I', \"'m\", 'knockin', 'on', 'heaven', \"'s\", 'door', 'Knock-knock-knockin', 'on', 'heaven', \"'s\", 'door', 'Knock-knock-knockin', 'on', 'heaven', \"'s\", 'door', 'Knock-knock-knockin', 'on', 'heaven', \"'s\", 'door', 'Knock-knock-knockin', 'on', 'heaven', \"'s\", 'door', 'Mama', 'put', 'my', 'guns', 'in', 'the', 'ground', 'I', 'ca', \"n't\", 'shoot', 'them', 'anymore', 'That', 'cold', 'black', 'cloud', 'is', 'comin', 'down', 'Feels', 'like', 'I', \"'m\", 'knockin', 'on', 'heaven', \"'s\", 'door', 'Knock-knock-knockin', 'on', 'heaven', \"'s\", 'door', 'Knock-knock-knockin', 'on', 'heaven', \"'s\", 'door', 'Knock-knock-knockin', 'on', 'heaven', \"'s\", 'door', 'Knock-knock-knockin', 'on', 'heaven', \"'s\", 'door', 'You', 'just', 'better', 'start', 'sniffin', 'your', 'own', 'rank', 'subjugation', 'Jack', \"'Cause\", 'it', \"'s\", 'just', 'you', 'against', 'your', 'tattered', 'libido', 'the', 'bank', 'and', 'the', 'mortician', 'forever', 'man', 'And', 'it', 'would', \"n't\", 'be', 'luck', 'if', 'you', 'could', 'get', 'out', 'of', 'life', 'alive', 'Knock-knock-knockin', 'on', 'heaven', \"'s\", 'door', 'Do', \"n't\", 'Cry', 'Talk', 'to', 'me', 'softly', 'There', \"'s\", 'something', 'in', 'your', 'eyes', 'Do', \"n't\", 'hang', 'your', 'head', 'in', 'sorrow', 'And', 'please', 'do', \"n't\", 'cry', 'I', 'know', 'how', 'you', 'feel', 'inside', 'I', \"'ve\", 'I', \"'ve\", 'been', 'there', 'before', 'Something', \"'s\", 'changin', 'inside', 'you', 'And', 'do', \"n't\", 'you', 'know', 'Do', \"n't\", 'you', 'cry', 'tonight', 'I', 'still', 'love', 'you', 'baby', 'Do', \"n't\", 'you', 'cry', 'tonight', 'Do', \"n't\", 'you', 'cry', 'tonight', 'There', \"'s\", 'a', 'heaven', 'above', 'you', 'baby', 'And', 'do', \"n't\", 'you', 'cry', 'tonight', 'Give', 'me', 'a', 'whisper', 'And', 'give', 'me', 'a', 'sigh', 'Give', 'me', 'a', 'kiss', 'before', 'you', 'Tell', 'me', 'goodbye', 'Do', \"n't\", 'you', 'take', 'it', 'so', 'hard', 'now', 'And', 'please', 'do', \"n't\", 'take', 'it', 'so', 'bad', 'I', \"'ll\", 'still', 'be', 'thinkin', 'of', 'you', 'And', 'the', 'times', 'we', 'had', 'baby', 'And', 'do', \"n't\", 'you', 'cry', 'tonight', 'Do', \"n't\", 'you', 'cry', 'tonight', 'Do', \"n't\", 'you', 'cry', 'tonight', 'There', \"'s\", 'a', 'heaven', 'above', 'you', 'baby', 'And', 'do', \"n't\", 'you', 'cry', 'tonight', 'And', 'please', 'remember', 'that', 'I', 'never', 'lied', 'And', 'please', 'remember', 'How', 'I', 'felt', 'inside', 'now', 'honey', 'You', 'got', 'ta', 'make', 'it', 'your', 'own', 'way', 'But', 'you', \"'ll\", 'be', 'alright', 'now', 'sugar', 'You', \"'ll\", 'feel', 'better', 'tomorrow', 'Come', 'the', 'morning', 'light', 'now', 'baby', 'And', 'do', \"n't\", 'you', 'cry', 'tonight', 'And', 'do', \"n't\", 'you', 'cry', 'tonight', 'And', 'do', \"n't\", 'you', 'cry', 'tonight', 'There', \"'s\", 'a', 'heaven', 'above', 'you', 'baby', 'And', 'do', \"n't\", 'you', 'cry', 'Do', \"n't\", 'you', 'ever', 'cry', 'Do', \"n't\", 'you', 'cry', 'tonight', 'Baby', 'maybe', 'someday', 'Do', \"n't\", 'you', 'cry', 'Do', \"n't\", 'you', 'ever', 'cry', 'Do', \"n't\", 'you', 'cry', 'Tonight', 'Sweet', 'Child', 'O', 'Mine', 'She', \"'s\", 'got', 'a', 'smile', 'that', 'it', 'seems', 'to', 'me', 'Reminds', 'me', 'of', 'childhood', 'memories', 'Where', 'everything', 'Was', 'as', 'fresh', 'as', 'the', 'bright', 'blue', 'sky', 'Now', 'and', 'then', 'when', 'I', 'see', 'her', 'face', 'It', 'takes', 'me', 'away', 'to', 'that', 'special', 'place', 'And', 'if', 'I', 'stared', 'too', 'long', 'I', \"'d\", 'probably', 'break', 'down', 'and', 'cry', 'Sweet', 'child', 'o', 'mine', 'Sweet', 'love', 'of', 'mine', 'She', \"'s\", 'got', 'eyes', 'of', 'the', 'bluest', 'skies', 'As', 'if', 'they', 'thought', 'of', 'rain', 'I', \"'d\", 'hate', 'to', 'look', 'into', 'those', 'eyes', 'And', 'see', 'an', 'ounce', 'of', 'pain', 'Her', 'hair', 'reminds', 'me', 'of', 'a', 'warm', 'safe', 'place', 'Where', 'as', 'a', 'child', 'I', \"'d\", 'hide', 'And', 'pray', 'for', 'the', 'thunder', 'and', 'the', 'rain', 'To', 'quietly', 'pass', 'me', 'by', 'Sweet', 'child', 'o', 'mine', 'Sweet', 'love', 'of', 'mine', 'Sweet', 'child', 'o', 'mine', 'Sweet', 'love', 'of', 'mine', 'Sweet', 'child', 'o', 'mine', 'Sweet', 'love', 'of', 'mine', 'Where', 'do', 'we', 'go', 'Where', 'do', 'we', 'go', 'now', 'Where', 'do', 'we', 'go', 'Where', 'do', 'we', 'go', 'Where', 'do', 'we', 'go', 'Where', 'do', 'we', 'go', 'now', 'Where', 'do', 'we', 'go', 'Sweet', 'child', 'o', 'mine', 'Where', 'do', 'we', 'go', 'now', 'Where', 'do', 'we', 'go', 'Where', 'do', 'we', 'go', 'Where', 'do', 'we', 'go', 'now', 'Where', 'do', 'we', 'go', 'Where', 'do', 'we', 'go', 'now', 'Where', 'do', 'we', 'go', 'Where', 'do', 'we', 'go', 'now', 'Where', 'do', 'we', 'go', 'Where', 'do', 'we', 'go', 'no', 'w', 'now', 'now', 'now', 'now', 'now', 'now', 'now', 'Sweet', 'child', 'sweet', 'child', 'o', 'mine', 'November', 'Rain', 'When', 'I', 'look', 'into', 'your', 'eyes', 'I', 'can', 'see', 'a', 'love', 'restrained', 'But', 'darlin', 'when', 'I', 'hold', 'you', 'Do', \"n't\", 'you', 'know', 'I', 'feel', 'the', 'same', \"'Cause\", 'nothin', 'lasts', 'forever', 'And', 'we', 'both', 'know', 'hearts', 'can', 'change', 'And', 'it', \"'s\", 'hard', 'to', 'hold', 'a', 'candle', 'In', 'the', 'cold', 'November', 'rain', 'We', \"'ve\", 'been', 'through', 'this', 'such', 'a', 'long', 'long', 'time', 'Just', 'tryin', 'to', 'kill', 'the', 'pain', 'But', 'lovers', 'always', 'come', 'and', 'lovers', 'always', 'go', 'And', 'no', 'one', \"'s\", 'really', 'sure', 'who', \"'s\", 'lettin', 'go', 'today', 'Walking', 'away', 'If', 'we', 'could', 'take', 'the', 'time', 'To', 'lay', 'it', 'on', 'the', 'line', 'I', 'could', 'rest', 'my', 'head', 'Just', 'knowin', 'that', 'you', 'were', 'mine', 'All', 'mine', 'So', 'if', 'you', 'want', 'to', 'love', 'me', 'Then', 'darlin', 'do', \"n't\", 'refrain', 'Or', 'I', \"'ll\", 'just', 'end', 'up', 'walkin', 'In', 'the', 'cold', 'November', 'rain', 'Do', 'you', 'need', 'some', 'time', 'on', 'your', 'own', 'Do', 'you', 'need', 'some', 'time', 'all', 'alone', 'Everybody', 'needs', 'some', 'time', 'on', 'their', 'own', 'Do', \"n't\", 'you', 'know', 'you', 'need', 'some', 'time', 'all', 'alone', 'I', 'know', 'it', \"'s\", 'hard', 'to', 'keep', 'an', 'open', 'heart', 'When', 'even', 'friends', 'seem', 'out', 'to', 'harm', 'you', 'But', 'if', 'you', 'could', 'heal', 'a', 'broken', 'heart', 'Would', \"n't\", 'time', 'be', 'out', 'to', 'charm', 'you', 'Sometimes', 'I', 'need', 'some', 'time', 'on', 'my', 'own', 'Sometimes', 'I', 'need', 'some', 'time', 'all', 'alone', 'Everybody', 'needs', 'some', 'time', 'on', 'their', 'own', 'Do', \"n't\", 'you', 'know', 'you', 'need', 'some', 'time', 'all', 'alone', 'And', 'when', 'your', 'fears', 'subside', 'And', 'shadows', 'still', 'remain', 'I', 'know', 'that', 'you', 'can', 'love', 'me', 'When', 'there', \"'s\", 'no', 'one', 'left', 'to', 'blame', 'So', 'never', 'mind', 'the', 'darkness', 'We', 'still', 'can', 'find', 'a', 'way', \"'Cause\", 'nothin', 'lasts', 'forever', 'Even', 'cold', 'November', 'rain', 'Do', \"n't\", 'ya', 'think', 'that', 'you', 'need', 'somebody', 'Do', \"n't\", 'ya', 'think', 'that', 'you', 'need', 'someone', 'Everybody', 'ne', 'eds', 'somebody', 'You', \"'re\", 'not', 'the', 'only', 'one', 'You', \"'re\", 'not', 'the', 'only', 'one']\n"
     ]
    }
   ],
   "source": [
    " print(t.words)"
   ]
  },
  {
   "cell_type": "markdown",
   "metadata": {},
   "source": [
    "### Clean the text and calculate the frequency"
   ]
  },
  {
   "cell_type": "code",
   "execution_count": 67,
   "metadata": {},
   "outputs": [
    {
     "name": "stdout",
     "output_type": "stream",
     "text": [
      "[('jungle', 20), ('cry', 20), ('go', 19), ('heaven', 15), ('tonight', 13), ('mine', 13), ('door', 12), ('sweet', 12), ('welcome', 11), ('time', 11), ('know', 10), ('need', 9), ('knock-knock-knockin', 9), ('child', 9), ('got', 8), ('knees', 8), ('baby', 8), ('love', 8), ('watch', 7), ('take', 7), (\"'re\", 7), ('bring', 6), ('na', 6), ('rain', 6), ('want', 5), ('please', 5), ('feel', 5), ('see', 5), (\"'ve\", 4), ('gon', 4), ('hard', 4), ('cold', 4), ('could', 4), ('eyes', 4), ('still', 4), ('november', 4), ('one', 4), ('alone', 4), ('honey', 3), ('bleed', 3), ('ya', 3), ('like', 3), ('better', 3), (\"'m\", 3), ('never', 3), ('ever', 3), ('come', 3), (\"'cause\", 3), ('forever', 3), ('inside', 3), ('give', 3), ('long', 3), (\"'d\", 3), ('everybody', 3), ('everything', 2), ('find', 2), ('chorus', 2), ('wan', 2), ('day', 2), ('bright', 2), ('get', 2), ('serpentine', 2), ('ta', 2), ('mama', 2), ('ca', 2), ('anymore', 2), ('dark', 2), ('feels', 2), ('knockin', 2), ('would', 2), ('something', 2), ('head', 2), ('remember', 2), ('way', 2), ('reminds', 2), ('away', 2), ('place', 2), ('look', 2), ('pain', 2), ('darlin', 2), ('hold', 2), ('nothin', 2), ('lasts', 2), ('lovers', 2), ('always', 2), ('needs', 2), ('heart', 2), ('even', 2), ('sometimes', 2), ('think', 2), ('somebody', 2), ('fun', 1), (\"'n\", 1), ('games', 1), ('names', 1), ('people', 1), ('whatever', 1), ('may', 1), ('money', 1), ('disease', 1)]\n"
     ]
    }
   ],
   "source": [
    "#filtramos por palabras\n",
    "simbolos=[\"(\",\")\",\",\",\"``\",\"?\",\".\",\"'\",\"''\",\"'ll\",\"'s\",\"n't\",\";\",\"[\",\"]\",\":\",\"!\",\"...\",\"\\\",\"]\n",
    "words=[i for i in t.words if i not in simbolos]\n",
    "\n",
    "#las ponemos todas minúsculas\n",
    "lower_words=[str(word).lower() for word in words]\n",
    "\n",
    "#por último eliminamos aquellas palabras que no aportan valos al texto y son muy genéricas\n",
    "stop = set(stopwords.words('english'))\n",
    "good_words=[i for i in lower_words if i not in stop]\n",
    "\n",
    "#Una vez aquí, calculamos la frecuencia de las palabras\n",
    "freq ={}\n",
    "for token in good_words:\n",
    "    if token in freq:\n",
    "        freq[token]+=1\n",
    "    else:\n",
    "        freq[token]=1\n",
    "\n",
    "pals_frecuentes=sorted(freq.items(), key=lambda kv: kv[1],reverse=True)\n",
    "print(pals_frecuentes[:100])"
   ]
  },
  {
   "cell_type": "markdown",
   "metadata": {},
   "source": [
    "### Classification by word category"
   ]
  },
  {
   "cell_type": "code",
   "execution_count": 68,
   "metadata": {
    "scrolled": true
   },
   "outputs": [
    {
     "name": "stdout",
     "output_type": "stream",
     "text": [
      "['mortician', 'sky', 'black', 'die', 'walkin', 'hair', 'blue', 'hang', 'long', 'na', 'animal', 'knock-knock-knockin', 'ne', 'sexy', 'cloud', 'alive', 'watch', 'someday', 'warm', 'libido', 'high', 'jungle', 'fresh', 'alright', 'serpentine', 'november', 'shoot', 'darlin', 'sure', 'subjugation', 'open', 'everyday', 'ha', 'left', 'felt', 'light', 'special', 'cold', 'live', 'pray', 'dark', 'broken', 'free', 'shadows', 'refrain', 'bad', 'safe', 'sigh', 'heaven', 'hear']\n",
      "----------------------------------------------------------------------\n",
      "['whisper', 'subside', 'door', 'bright', 'something', 'girl', 'harm', 'life', 'lettin', 'time', 'heart', 'kiss', 'everything', 'comin', 'mine', 'make', 'sugar', 'give', 'ta', 'man', 'darkness', 'charm', 'pass', 'rank', 'someone', 'bank', 'ya', 'tonight', 'think', 'pain', 'chorus', 'ground', 'jack', 'forever', 'sorrow', 'place', 'somebody', 'bring', 'get', 'change', 'talk', 'price', 'love', 'worse', 'look', 'hide', 'tryin', 'honey', 'want', 'anymore']\n",
      "----------------------------------------------------------------------\n",
      "['fears', 'know', 'see', 'heal', 'smile', 'break', 'play', 'pay', 'tell', 'please', 'bleed', 'times', 'keep', 'rain', 'kill', 'hold']\n"
     ]
    }
   ],
   "source": [
    "adjetivos=[]\n",
    "nombres=[]\n",
    "verbos=[]\n",
    "for palabra in nltk.pos_tag(set(good_words)):\n",
    "    if palabra[1]=='JJ':\n",
    "        adjetivos.append(palabra[0])\n",
    "    if palabra [1]=='NN':\n",
    "        nombres.append(palabra[0])\n",
    "    if palabra [1]=='VB':\n",
    "        verbos.append(palabra[0])\n",
    "\n",
    "print(adjetivos[:50])\n",
    "print('-'*70) #guiones para separar los textos\n",
    "print(nombres[:50])\n",
    "print('-'*70) #guiones para separar los textos\n",
    "print(verbos[:50])\n"
   ]
  },
  {
   "cell_type": "markdown",
   "metadata": {},
   "source": [
    "### Visualization"
   ]
  },
  {
   "cell_type": "markdown",
   "metadata": {},
   "source": [
    "First of all, a single DataFrame will be built merging two dataframes:\n",
    "1. word and frequency \n",
    "2. word and tag\n",
    "\n",
    "Both dataframes were created gathering the data obtained from the previous analysis of five Guns n' Roses songs ."
   ]
  },
  {
   "cell_type": "code",
   "execution_count": 240,
   "metadata": {
    "scrolled": false
   },
   "outputs": [
    {
     "name": "stdout",
     "output_type": "stream",
     "text": [
      "      word  frequency\n",
      "0   jungle         20\n",
      "1      cry         20\n",
      "2       go         19\n",
      "3   heaven         15\n",
      "4  tonight         13\n",
      "5     mine         13\n",
      "6     door         12\n",
      "7    sweet         12\n",
      "8  welcome         11\n",
      "9     time         11\n"
     ]
    }
   ],
   "source": [
    "pf=pd.DataFrame(pals_frecuentes,columns=['word','frequency'])\n",
    "print(pf[:10])"
   ]
  },
  {
   "cell_type": "code",
   "execution_count": 96,
   "metadata": {},
   "outputs": [
    {
     "name": "stdout",
     "output_type": "stream",
     "text": [
      "        word  tag\n",
      "0    thought  VBN\n",
      "1     hearts  NNS\n",
      "2       eyes  NNS\n",
      "3       like   IN\n",
      "4  mortician   JJ\n",
      "5    whisper   NN\n",
      "6    subside   NN\n",
      "7       door   NN\n",
      "8     nothin   IN\n",
      "9      never   RB\n"
     ]
    }
   ],
   "source": [
    "tag=pd.DataFrame(nltk.pos_tag(set(pf.word)),columns=['word','tag'])\n",
    "print(tag[:10])"
   ]
  },
  {
   "cell_type": "markdown",
   "metadata": {},
   "source": [
    "### Join both dataFrames into only one"
   ]
  },
  {
   "cell_type": "code",
   "execution_count": 207,
   "metadata": {},
   "outputs": [
    {
     "data": {
      "text/html": [
       "<div>\n",
       "<style scoped>\n",
       "    .dataframe tbody tr th:only-of-type {\n",
       "        vertical-align: middle;\n",
       "    }\n",
       "\n",
       "    .dataframe tbody tr th {\n",
       "        vertical-align: top;\n",
       "    }\n",
       "\n",
       "    .dataframe thead th {\n",
       "        text-align: right;\n",
       "    }\n",
       "</style>\n",
       "<table border=\"1\" class=\"dataframe\">\n",
       "  <thead>\n",
       "    <tr style=\"text-align: right;\">\n",
       "      <th></th>\n",
       "      <th>word</th>\n",
       "      <th>frequency</th>\n",
       "      <th>tag</th>\n",
       "    </tr>\n",
       "  </thead>\n",
       "  <tbody>\n",
       "    <tr>\n",
       "      <th>0</th>\n",
       "      <td>jungle</td>\n",
       "      <td>20</td>\n",
       "      <td>NN</td>\n",
       "    </tr>\n",
       "    <tr>\n",
       "      <th>1</th>\n",
       "      <td>cry</td>\n",
       "      <td>20</td>\n",
       "      <td>NN</td>\n",
       "    </tr>\n",
       "    <tr>\n",
       "      <th>2</th>\n",
       "      <td>go</td>\n",
       "      <td>19</td>\n",
       "      <td>VBP</td>\n",
       "    </tr>\n",
       "    <tr>\n",
       "      <th>3</th>\n",
       "      <td>heaven</td>\n",
       "      <td>15</td>\n",
       "      <td>JJ</td>\n",
       "    </tr>\n",
       "    <tr>\n",
       "      <th>4</th>\n",
       "      <td>tonight</td>\n",
       "      <td>13</td>\n",
       "      <td>VBD</td>\n",
       "    </tr>\n",
       "    <tr>\n",
       "      <th>5</th>\n",
       "      <td>mine</td>\n",
       "      <td>13</td>\n",
       "      <td>NN</td>\n",
       "    </tr>\n",
       "    <tr>\n",
       "      <th>6</th>\n",
       "      <td>door</td>\n",
       "      <td>12</td>\n",
       "      <td>NN</td>\n",
       "    </tr>\n",
       "    <tr>\n",
       "      <th>7</th>\n",
       "      <td>sweet</td>\n",
       "      <td>12</td>\n",
       "      <td>NN</td>\n",
       "    </tr>\n",
       "    <tr>\n",
       "      <th>8</th>\n",
       "      <td>welcome</td>\n",
       "      <td>11</td>\n",
       "      <td>VBP</td>\n",
       "    </tr>\n",
       "    <tr>\n",
       "      <th>9</th>\n",
       "      <td>time</td>\n",
       "      <td>11</td>\n",
       "      <td>NN</td>\n",
       "    </tr>\n",
       "    <tr>\n",
       "      <th>10</th>\n",
       "      <td>know</td>\n",
       "      <td>10</td>\n",
       "      <td>VBP</td>\n",
       "    </tr>\n",
       "    <tr>\n",
       "      <th>11</th>\n",
       "      <td>need</td>\n",
       "      <td>9</td>\n",
       "      <td>MD</td>\n",
       "    </tr>\n",
       "    <tr>\n",
       "      <th>12</th>\n",
       "      <td>knock-knock-knockin</td>\n",
       "      <td>9</td>\n",
       "      <td>JJ</td>\n",
       "    </tr>\n",
       "    <tr>\n",
       "      <th>13</th>\n",
       "      <td>child</td>\n",
       "      <td>9</td>\n",
       "      <td>NN</td>\n",
       "    </tr>\n",
       "    <tr>\n",
       "      <th>14</th>\n",
       "      <td>got</td>\n",
       "      <td>8</td>\n",
       "      <td>VBD</td>\n",
       "    </tr>\n",
       "    <tr>\n",
       "      <th>15</th>\n",
       "      <td>knees</td>\n",
       "      <td>8</td>\n",
       "      <td>NNS</td>\n",
       "    </tr>\n",
       "    <tr>\n",
       "      <th>16</th>\n",
       "      <td>baby</td>\n",
       "      <td>8</td>\n",
       "      <td>NN</td>\n",
       "    </tr>\n",
       "    <tr>\n",
       "      <th>17</th>\n",
       "      <td>love</td>\n",
       "      <td>8</td>\n",
       "      <td>VB</td>\n",
       "    </tr>\n",
       "    <tr>\n",
       "      <th>18</th>\n",
       "      <td>watch</td>\n",
       "      <td>7</td>\n",
       "      <td>JJ</td>\n",
       "    </tr>\n",
       "    <tr>\n",
       "      <th>19</th>\n",
       "      <td>take</td>\n",
       "      <td>7</td>\n",
       "      <td>VBP</td>\n",
       "    </tr>\n",
       "    <tr>\n",
       "      <th>20</th>\n",
       "      <td>'re</td>\n",
       "      <td>7</td>\n",
       "      <td>VBP</td>\n",
       "    </tr>\n",
       "    <tr>\n",
       "      <th>21</th>\n",
       "      <td>bring</td>\n",
       "      <td>6</td>\n",
       "      <td>NN</td>\n",
       "    </tr>\n",
       "    <tr>\n",
       "      <th>22</th>\n",
       "      <td>na</td>\n",
       "      <td>6</td>\n",
       "      <td>JJ</td>\n",
       "    </tr>\n",
       "    <tr>\n",
       "      <th>23</th>\n",
       "      <td>rain</td>\n",
       "      <td>6</td>\n",
       "      <td>JJ</td>\n",
       "    </tr>\n",
       "    <tr>\n",
       "      <th>24</th>\n",
       "      <td>want</td>\n",
       "      <td>5</td>\n",
       "      <td>JJ</td>\n",
       "    </tr>\n",
       "    <tr>\n",
       "      <th>25</th>\n",
       "      <td>please</td>\n",
       "      <td>5</td>\n",
       "      <td>JJ</td>\n",
       "    </tr>\n",
       "    <tr>\n",
       "      <th>26</th>\n",
       "      <td>feel</td>\n",
       "      <td>5</td>\n",
       "      <td>NN</td>\n",
       "    </tr>\n",
       "    <tr>\n",
       "      <th>27</th>\n",
       "      <td>see</td>\n",
       "      <td>5</td>\n",
       "      <td>VB</td>\n",
       "    </tr>\n",
       "    <tr>\n",
       "      <th>28</th>\n",
       "      <td>'ve</td>\n",
       "      <td>4</td>\n",
       "      <td>VBP</td>\n",
       "    </tr>\n",
       "    <tr>\n",
       "      <th>29</th>\n",
       "      <td>gon</td>\n",
       "      <td>4</td>\n",
       "      <td>NN</td>\n",
       "    </tr>\n",
       "    <tr>\n",
       "      <th>...</th>\n",
       "      <td>...</td>\n",
       "      <td>...</td>\n",
       "      <td>...</td>\n",
       "    </tr>\n",
       "    <tr>\n",
       "      <th>205</th>\n",
       "      <td>sure</td>\n",
       "      <td>1</td>\n",
       "      <td>JJ</td>\n",
       "    </tr>\n",
       "    <tr>\n",
       "      <th>206</th>\n",
       "      <td>lettin</td>\n",
       "      <td>1</td>\n",
       "      <td>JJ</td>\n",
       "    </tr>\n",
       "    <tr>\n",
       "      <th>207</th>\n",
       "      <td>today</td>\n",
       "      <td>1</td>\n",
       "      <td>NN</td>\n",
       "    </tr>\n",
       "    <tr>\n",
       "      <th>208</th>\n",
       "      <td>walking</td>\n",
       "      <td>1</td>\n",
       "      <td>VBG</td>\n",
       "    </tr>\n",
       "    <tr>\n",
       "      <th>209</th>\n",
       "      <td>lay</td>\n",
       "      <td>1</td>\n",
       "      <td>VBD</td>\n",
       "    </tr>\n",
       "    <tr>\n",
       "      <th>210</th>\n",
       "      <td>line</td>\n",
       "      <td>1</td>\n",
       "      <td>NN</td>\n",
       "    </tr>\n",
       "    <tr>\n",
       "      <th>211</th>\n",
       "      <td>rest</td>\n",
       "      <td>1</td>\n",
       "      <td>NN</td>\n",
       "    </tr>\n",
       "    <tr>\n",
       "      <th>212</th>\n",
       "      <td>knowin</td>\n",
       "      <td>1</td>\n",
       "      <td>NN</td>\n",
       "    </tr>\n",
       "    <tr>\n",
       "      <th>213</th>\n",
       "      <td>refrain</td>\n",
       "      <td>1</td>\n",
       "      <td>JJ</td>\n",
       "    </tr>\n",
       "    <tr>\n",
       "      <th>214</th>\n",
       "      <td>end</td>\n",
       "      <td>1</td>\n",
       "      <td>NN</td>\n",
       "    </tr>\n",
       "    <tr>\n",
       "      <th>215</th>\n",
       "      <td>walkin</td>\n",
       "      <td>1</td>\n",
       "      <td>JJ</td>\n",
       "    </tr>\n",
       "    <tr>\n",
       "      <th>216</th>\n",
       "      <td>keep</td>\n",
       "      <td>1</td>\n",
       "      <td>VB</td>\n",
       "    </tr>\n",
       "    <tr>\n",
       "      <th>217</th>\n",
       "      <td>open</td>\n",
       "      <td>1</td>\n",
       "      <td>JJ</td>\n",
       "    </tr>\n",
       "    <tr>\n",
       "      <th>218</th>\n",
       "      <td>friends</td>\n",
       "      <td>1</td>\n",
       "      <td>NNS</td>\n",
       "    </tr>\n",
       "    <tr>\n",
       "      <th>219</th>\n",
       "      <td>seem</td>\n",
       "      <td>1</td>\n",
       "      <td>VBP</td>\n",
       "    </tr>\n",
       "    <tr>\n",
       "      <th>220</th>\n",
       "      <td>harm</td>\n",
       "      <td>1</td>\n",
       "      <td>NN</td>\n",
       "    </tr>\n",
       "    <tr>\n",
       "      <th>221</th>\n",
       "      <td>heal</td>\n",
       "      <td>1</td>\n",
       "      <td>VB</td>\n",
       "    </tr>\n",
       "    <tr>\n",
       "      <th>222</th>\n",
       "      <td>broken</td>\n",
       "      <td>1</td>\n",
       "      <td>JJ</td>\n",
       "    </tr>\n",
       "    <tr>\n",
       "      <th>223</th>\n",
       "      <td>charm</td>\n",
       "      <td>1</td>\n",
       "      <td>NN</td>\n",
       "    </tr>\n",
       "    <tr>\n",
       "      <th>224</th>\n",
       "      <td>fears</td>\n",
       "      <td>1</td>\n",
       "      <td>VB</td>\n",
       "    </tr>\n",
       "    <tr>\n",
       "      <th>225</th>\n",
       "      <td>subside</td>\n",
       "      <td>1</td>\n",
       "      <td>NN</td>\n",
       "    </tr>\n",
       "    <tr>\n",
       "      <th>226</th>\n",
       "      <td>shadows</td>\n",
       "      <td>1</td>\n",
       "      <td>JJ</td>\n",
       "    </tr>\n",
       "    <tr>\n",
       "      <th>227</th>\n",
       "      <td>remain</td>\n",
       "      <td>1</td>\n",
       "      <td>VBP</td>\n",
       "    </tr>\n",
       "    <tr>\n",
       "      <th>228</th>\n",
       "      <td>left</td>\n",
       "      <td>1</td>\n",
       "      <td>JJ</td>\n",
       "    </tr>\n",
       "    <tr>\n",
       "      <th>229</th>\n",
       "      <td>blame</td>\n",
       "      <td>1</td>\n",
       "      <td>VB</td>\n",
       "    </tr>\n",
       "    <tr>\n",
       "      <th>230</th>\n",
       "      <td>mind</td>\n",
       "      <td>1</td>\n",
       "      <td>NN</td>\n",
       "    </tr>\n",
       "    <tr>\n",
       "      <th>231</th>\n",
       "      <td>darkness</td>\n",
       "      <td>1</td>\n",
       "      <td>NN</td>\n",
       "    </tr>\n",
       "    <tr>\n",
       "      <th>232</th>\n",
       "      <td>someone</td>\n",
       "      <td>1</td>\n",
       "      <td>NN</td>\n",
       "    </tr>\n",
       "    <tr>\n",
       "      <th>233</th>\n",
       "      <td>ne</td>\n",
       "      <td>1</td>\n",
       "      <td>JJ</td>\n",
       "    </tr>\n",
       "    <tr>\n",
       "      <th>234</th>\n",
       "      <td>eds</td>\n",
       "      <td>1</td>\n",
       "      <td>NNS</td>\n",
       "    </tr>\n",
       "  </tbody>\n",
       "</table>\n",
       "<p>235 rows × 3 columns</p>\n",
       "</div>"
      ],
      "text/plain": [
       "                    word  frequency  tag\n",
       "0                 jungle         20   NN\n",
       "1                    cry         20   NN\n",
       "2                     go         19  VBP\n",
       "3                 heaven         15   JJ\n",
       "4                tonight         13  VBD\n",
       "5                   mine         13   NN\n",
       "6                   door         12   NN\n",
       "7                  sweet         12   NN\n",
       "8                welcome         11  VBP\n",
       "9                   time         11   NN\n",
       "10                  know         10  VBP\n",
       "11                  need          9   MD\n",
       "12   knock-knock-knockin          9   JJ\n",
       "13                 child          9   NN\n",
       "14                   got          8  VBD\n",
       "15                 knees          8  NNS\n",
       "16                  baby          8   NN\n",
       "17                  love          8   VB\n",
       "18                 watch          7   JJ\n",
       "19                  take          7  VBP\n",
       "20                   're          7  VBP\n",
       "21                 bring          6   NN\n",
       "22                    na          6   JJ\n",
       "23                  rain          6   JJ\n",
       "24                  want          5   JJ\n",
       "25                please          5   JJ\n",
       "26                  feel          5   NN\n",
       "27                   see          5   VB\n",
       "28                   've          4  VBP\n",
       "29                   gon          4   NN\n",
       "..                   ...        ...  ...\n",
       "205                 sure          1   JJ\n",
       "206               lettin          1   JJ\n",
       "207                today          1   NN\n",
       "208              walking          1  VBG\n",
       "209                  lay          1  VBD\n",
       "210                 line          1   NN\n",
       "211                 rest          1   NN\n",
       "212               knowin          1   NN\n",
       "213              refrain          1   JJ\n",
       "214                  end          1   NN\n",
       "215               walkin          1   JJ\n",
       "216                 keep          1   VB\n",
       "217                 open          1   JJ\n",
       "218              friends          1  NNS\n",
       "219                 seem          1  VBP\n",
       "220                 harm          1   NN\n",
       "221                 heal          1   VB\n",
       "222               broken          1   JJ\n",
       "223                charm          1   NN\n",
       "224                fears          1   VB\n",
       "225              subside          1   NN\n",
       "226              shadows          1   JJ\n",
       "227               remain          1  VBP\n",
       "228                 left          1   JJ\n",
       "229                blame          1   VB\n",
       "230                 mind          1   NN\n",
       "231             darkness          1   NN\n",
       "232              someone          1   NN\n",
       "233                   ne          1   JJ\n",
       "234                  eds          1  NNS\n",
       "\n",
       "[235 rows x 3 columns]"
      ]
     },
     "execution_count": 207,
     "metadata": {},
     "output_type": "execute_result"
    }
   ],
   "source": [
    "tabla=pf.merge(tag,how='left')\n",
    "tabla"
   ]
  },
  {
   "cell_type": "markdown",
   "metadata": {},
   "source": [
    "### Top ten words by frequency "
   ]
  },
  {
   "cell_type": "code",
   "execution_count": 236,
   "metadata": {
    "scrolled": true
   },
   "outputs": [
    {
     "data": {
      "image/png": "[encoded data removed]",
      "text/plain": [
       "<Figure size 432x288 with 1 Axes>"
      ]
     },
     "metadata": {},
     "output_type": "display_data"
    }
   ],
   "source": [
    "fig1,ax1=plt.subplots()\n",
    "explode=(0.25,0.25,0.1,0.05,0,0,0,0,0,0) #highlight the 4 main values\n",
    "sizes=tabla[:10].frequency\n",
    "labels=tabla[:10].word\n",
    "\n",
    "\n",
    "ax1.pie(sizes,labels=labels,autopct='%1d%%',explode=explode,shadow=True, startangle=90)\n",
    "ax1.axis=('equal') #Equal aspect ratio ensures that pie is drawn as a circle\n",
    "\n"
   ]
  },
  {
   "cell_type": "markdown",
   "metadata": {},
   "source": [
    "### Which tags have the most frequency?"
   ]
  },
  {
   "cell_type": "code",
   "execution_count": 239,
   "metadata": {},
   "outputs": [
    {
     "data": {
      "image/png": "[encoded data removed]",
      "text/plain": [
       "<Figure size 576x288 with 1 Axes>"
      ]
     },
     "metadata": {},
     "output_type": "display_data"
    }
   ],
   "source": [
    "tag_freq=tabla.groupby('tag').sum().sort_values(by='frequency',ascending=False).reset_index()\n",
    "plt.figure(figsize=(8,4))\n",
    "plt.bar(tag_freq['tag'],tag_freq.frequency,color='blue')\n",
    "plt.xlabel('tags')\n",
    "plt.ylabel('frequency')\n",
    "plt.title('Most repeated tags in Guns n Roses songs')\n",
    "plt.show()"
   ]
  }
 ],
 "metadata": {
  "kernelspec": {
   "display_name": "Python 3",
   "language": "python",
   "name": "python3"
  },
  "language_info": {
   "codemirror_mode": {
    "name": "ipython",
    "version": 3
   },
   "file_extension": ".py",
   "mimetype": "text/x-python",
   "name": "python",
   "nbconvert_exporter": "python",
   "pygments_lexer": "ipython3",
   "version": "3.6.4"
  }
 },
 "nbformat": 4,
 "nbformat_minor": 2
}
