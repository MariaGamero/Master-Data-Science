{
 "cells": [
  {
   "cell_type": "code",
   "execution_count": 1,
   "metadata": {},
   "outputs": [],
   "source": [
    "import nltk\n",
    "from nltk.corpus import stopwords\n",
    "from nltk.tokenize import word_tokenize"
   ]
  },
  {
   "cell_type": "code",
   "execution_count": 2,
   "metadata": {},
   "outputs": [],
   "source": [
    "path=\"data/\""
   ]
  },
  {
   "cell_type": "code",
   "execution_count": 3,
   "metadata": {},
   "outputs": [
    {
     "name": "stdout",
     "output_type": "stream",
     "text": [
      "total 20\r\n",
      "4 lyric_five.txt  4 lyric_one.txt    4 lyric_two.txt\r\n",
      "4 lyric_four.txt  4 lyric_three.txt\r\n"
     ]
    }
   ],
   "source": [
    "!ls -s {path}"
   ]
  },
  {
   "cell_type": "code",
   "execution_count": 114,
   "metadata": {},
   "outputs": [
    {
     "data": {
      "text/plain": [
       "' Welcome To The Jungle  Welcome to the jungle We\\'ve got fun \\'n\\' games We got everything you want Honey, we know the names We are the people that can find Whatever you may need If you got the money, honey, We got your disease  [Chorus:] In the jungle Welcome to the jungle Watch it bring you to your Knees, knees I wanna watch you bleed  Welcome to the jungle We take it day by day If you want it you\\'re gonna bleed But it\\'s the price you pay And you\\'re a very sexy girl That\\'s very hard to please You can taste the bright lights But you won\\'t get them for free  In the jungle Welcome to the jungle Feel my, my, my serpentine I, I wanna hear you scream  Welcome to the jungle It gets worse here everyday Ya learn ta live like an animal In the jungle where we play If you got a hunger for what you see You\\'ll take it eventually You can have anything you want But you better not take it from me  [Chorus:] In the jungle Welcome to the jungle Watch it bring you to your Knees, knees I\\'m gonna watch you bleed  And when you\\'re high you never Ever want to come down, so down, down, yeah!  You know where you are? You\\'re in the jungle, baby You\\'re gonna die  In the jungle Welcome to the jungle Watch it bring you to your Knees, knees  In the jungle Welcome to the jungle Feel my, my, my serpentine  In the jungle Welcome to the jungle Watch it bring you to your Knees, knees  In the jungle Welcome to the jungle Watch it bring you t o your...  It\\'s gonna bring you down Ha!      Knocking On Heaven\\'s Door  Mama, take this badge from me I can\\'t use it anymore It\\'s getting dark, too dark to see Feels like I\\'m knockin\\' on heaven\\'s door  Knock-knock-knockin\\' on heaven\\'s door Knock-knock-knockin\\' on heaven\\'s door Knock-knock-knockin\\' on heaven\\'s door Knock-knock-knockin\\' on heaven\\'s door  Mama, put my guns in the ground I can\\'t shoot them anymore That cold black cloud is comin\\' down Feels like I\\'m knockin\\' on heaven\\'s door  Knock-knock-knockin\\' on heaven\\'s door Knock-knock-knockin\\' on heaven\\'s door Knock-knock-knockin\\' on heaven\\'s door Knock-knock-knockin\\' on heaven\\'s door  \"You just better start sniffin\\' your own rank subjugation Jack \\'Cause it\\'s just you against your tattered libido, the bank and the mortician forever, man. And it wouldn\\'t be luck if you could get out of life alive.\"  Knock-knock-knockin\\' on heaven\\'s door         Don\\'t Cry  Talk to me softly There\\'s something in your eyes Don\\'t hang your head in sorrow And please don\\'t cry I know how you feel inside I\\'ve I\\'ve been there before Something\\'s changin\\' inside you And don\\'t you know  Don\\'t you cry tonight I still love you baby Don\\'t you cry tonight Don\\'t you cry tonight There\\'s a heaven above you baby And don\\'t you cry tonight  Give me a whisper And give me a sigh Give me a kiss before you Tell me goodbye Don\\'t you take it so hard now And please don\\'t take it so bad I\\'ll still be thinkin\\' of you And the times we had...baby  And don\\'t you cry tonight Don\\'t you cry tonight Don\\'t you cry tonight There\\'s a heaven above you baby And don\\'t you cry tonight  And please remember that I never lied And please remember How I felt inside now honey You gotta make it your own way But you\\'ll be alright now sugar You\\'ll feel better tomorrow Come the morning light now baby  And don\\'t you cry tonight And don\\'t you cry tonight And don\\'t you cry tonight There\\'s a heaven above you baby And don\\'t you cry Don\\'t you ever cry Don\\'t you cry tonight Baby maybe someday Don\\'t you cry Don\\'t you ever cry Don\\'t you cry Tonight            Sweet Child O\\' Mine  She\\'s got a smile that it seems to me Reminds me of childhood memories Where everything Was as fresh as the bright blue sky  Now and then when I see her face It takes me away to that special place And if I stared too long I\\'d probably break down and cry  Sweet child o\\' mine Sweet love of mine  She\\'s got eyes of the bluest skies As if they thought of rain I\\'d hate to look into those eyes And see an ounce of pain  Her hair reminds me of a warm safe place Where as a child I\\'d hide And pray for the thunder and the rain To quietly pass me by  Sweet child o\\' mine Sweet love of mine  Sweet child o\\' mine Sweet love of mine  Sweet child o\\' mine Sweet love of mine  Where do we go? Where do we go now? Where do we go?  Where do we go? Where do we go? Where do we go now?  Where do we go? Sweet child o\\' mine Where do we go now?  Where do we go? Where do we go? Where do we go now?  Where do we go? Where do we go now? Where do we go? Where do we go now?  Where do we go? Where do we go no w, now, now, now, now, now, now now?  Sweet child, sweet child o\\' mine                November Rain\"  When I look into your eyes I can see a love restrained But darlin\\' when I hold you Don\\'t you know I feel the same  \\'Cause nothin\\' lasts forever And we both know hearts can change And it\\'s hard to hold a candle In the cold November rain  We\\'ve been through this such a long long time Just tryin\\' to kill the pain  But lovers always come and lovers always go And no one\\'s really sure who\\'s lettin\\' go today Walking away  If we could take the time To lay it on the line I could rest my head Just knowin\\' that you were mine All mine So if you want to love me Then darlin\\' don\\'t refrain Or I\\'ll just end up walkin\\' In the cold November rain  Do you need some time...on your own Do you need some time...all alone Everybody needs some time... on their own Don\\'t you know you need some time...all alone  I know it\\'s hard to keep an open heart When even friends seem out to harm you But if you could heal a broken heart Wouldn\\'t time be out to charm you  Sometimes I need some time...on my own Sometimes I need some time...all alone Everybody needs some time... on their own Don\\'t you know you need some time...all alone  And when your fears subside And shadows still remain I know that you can love me When there\\'s no one left to blame So never mind the darkness We still can find a way \\'Cause nothin\\' lasts forever Even cold November rain  Don\\'t ya think that you need somebody Don\\'t ya think that you need someone Everybody ne eds somebody You\\'re not the only one You\\'re not the only one                  '"
      ]
     },
     "execution_count": 114,
     "metadata": {},
     "output_type": "execute_result"
    }
   ],
   "source": [
    "files = [\"lyric_one.txt\",\"lyric_two.txt\",\"lyric_three.txt\", \"lyric_four.txt\",\"lyric_five.txt\"]\n",
    "\n",
    "texto = \" \"\n",
    "for element in files:\n",
    "    with open(path+element,\"r\") as f:\n",
    "        a=f.read()\n",
    "        texto=texto+a\n",
    "\n",
    "texto= texto.replace(\"\\n\",\" \")\n",
    "texto"
   ]
  },
  {
   "cell_type": "code",
   "execution_count": 115,
   "metadata": {},
   "outputs": [],
   "source": [
    "word_tokens = word_tokenize(texto)"
   ]
  },
  {
   "cell_type": "code",
   "execution_count": 186,
   "metadata": {
    "scrolled": true
   },
   "outputs": [
    {
     "name": "stdout",
     "output_type": "stream",
     "text": [
      "[('jungle', 20), ('cry', 20), ('go', 19), ('heaven', 15), ('tonight', 13), ('mine', 13), ('door', 12), ('sweet', 12), ('welcome', 11), ('time', 11), ('know', 10), ('need', 9), ('knock-knock-knockin', 9), ('child', 9), ('got', 8), ('knees', 8), ('baby', 8), ('love', 8), ('watch', 7), ('take', 7), (\"'re\", 7), ('bring', 6), ('na', 6), ('rain', 6), ('want', 5), ('please', 5), ('feel', 5), ('see', 5), (\"'ve\", 4), ('gon', 4), ('hard', 4), ('cold', 4), ('could', 4), ('eyes', 4), ('still', 4), ('november', 4), ('one', 4), ('alone', 4), ('honey', 3), ('bleed', 3), ('ya', 3), ('like', 3), ('better', 3), (\"'m\", 3), ('never', 3), ('ever', 3), ('come', 3), (\"'cause\", 3), ('forever', 3), ('inside', 3), ('give', 3), ('long', 3), (\"'d\", 3), ('everybody', 3), ('everything', 2), ('find', 2), ('chorus', 2), ('wan', 2), ('day', 2), ('bright', 2), ('get', 2), ('serpentine', 2), ('ta', 2), ('mama', 2), ('ca', 2), ('anymore', 2), ('dark', 2), ('feels', 2), ('knockin', 2), ('would', 2), ('something', 2), ('head', 2), ('remember', 2), ('way', 2), ('reminds', 2), ('away', 2), ('place', 2), ('look', 2), ('pain', 2), ('darlin', 2), ('hold', 2), ('nothin', 2), ('lasts', 2), ('lovers', 2), ('always', 2), ('needs', 2), ('heart', 2), ('even', 2), ('sometimes', 2), ('think', 2), ('somebody', 2), ('fun', 1), (\"'n\", 1), ('games', 1), ('names', 1), ('people', 1), ('whatever', 1), ('may', 1), ('money', 1), ('disease', 1)]\n"
     ]
    }
   ],
   "source": [
    "#filtramos por palabras\n",
    "simbolos=[\"(\",\")\",\",\",\"``\",\"?\",\".\",\"'\",\"''\",\"'ll\",\"'s\",\"n't\",\";\",\"[\",\"]\",\":\",\"!\",\"...\",\"\\\",\"]\n",
    "words=[i for i in word_tokens if i not in simbolos]\n",
    "\n",
    "#las ponemos todas minúsculas\n",
    "lower_words=[str(word).lower() for word in words]\n",
    "\n",
    "#por último eliminamos aquellas palabras que no aportan valos al texto y son muy genéricas\n",
    "stop = set(stopwords.words('english'))\n",
    "good_words=[i for i in lower_words if i not in stop]\n",
    "\n",
    "#Una vez aquí, calculamos la frecuencia de las palabras\n",
    "freq ={}\n",
    "for token in good_words:\n",
    "    if token in freq:\n",
    "        freq[token]+=1\n",
    "    else:\n",
    "        freq[token]=1\n",
    "\n",
    "pals_frecuentes=sorted(freq.items(), key=lambda kv: kv[1],reverse=True)\n",
    "print(pals_frecuentes[:100])"
   ]
  },
  {
   "cell_type": "code",
   "execution_count": 197,
   "metadata": {},
   "outputs": [
    {
     "name": "stdout",
     "output_type": "stream",
     "text": [
      "['live', 'heal', 'lettin', 'sigh', 'hair', 'welcome', 'open', 'free', 'black', 'dark', 'end', 'darkness', 'sweet', 'warm', 'candle', 'mine', 'please', 'rank', 'november', 'ta', 'knock-knock-knockin', 'special', 'yeah', 'stared', 'alive', 'sorrow', 'smile', 'tattered', 'safe', 'nothin', 'hard', 'harm', 'long', 'blame', 'give', 'ne', 'someday', 'door', 'everyday', 'sure', 'fresh', 'sexy', 'high', 'tryin', 'knockin', 'bright', 'blue', 'alright', 'break', 'walkin']\n",
      "----------------------------------------------------------------------\n",
      "['shoot', 'life', 'get', 'watch', 'tomorrow', 'subjugation', 'line', 'charm', 'childhood', 'tonight', 'face', 'anything', 'gon', 'cry', 'thinkin', 'mind', 'guns', 'ground', 'light', 'everybody', 'wan', 'darlin', 'mama', 'feel', 'pain', 'ounce', 'taste', 'fun', 'rest', 'scream', 'sky', 'pay', 'ha', 'money', 'sugar', 'bring', 'pray', 'heart', 'start', 'animal', 'bank', 'honey', 'forever', 'somebody', 'rain', 'place', 'sniffin', 'price', 'kill', 'thunder']\n",
      "----------------------------------------------------------------------\n",
      "['shoot', 'life', 'get', 'watch', 'tomorrow', 'subjugation', 'line', 'charm', 'childhood', 'tonight', 'face', 'anything', 'gon', 'cry', 'thinkin', 'mind', 'guns', 'ground', 'light', 'everybody', 'wan', 'darlin', 'mama', 'feel', 'pain', 'ounce', 'taste', 'fun', 'rest', 'scream', 'sky', 'pay', 'ha', 'money', 'sugar', 'bring', 'pray', 'heart', 'start', 'animal', 'bank', 'honey', 'forever', 'somebody', 'rain', 'place', 'sniffin', 'price', 'kill', 'thunder']\n"
     ]
    }
   ],
   "source": [
    "adjetivos=[]\n",
    "nombres=[]\n",
    "verbos=[]\n",
    "for palabra in nltk.pos_tag(set(good_words)):\n",
    "    if palabra[1]=='JJ':\n",
    "        adjetivos.append(palabra[0])\n",
    "    if palabra [1]=='NN':\n",
    "        nombres.append(palabra[0])\n",
    "    if palabra [1]=='VB':\n",
    "        verbos.append(palabra[0])\n",
    "\n",
    "print(adjetivos[:50])\n",
    "print('-'*70) #guiones para separar los textos\n",
    "print(nombres[:50])\n",
    "print('-'*70) #guiones para separar los textos\n",
    "print(nombres[:50])\n"
   ]
  },
  {
   "cell_type": "code",
   "execution_count": null,
   "metadata": {},
   "outputs": [],
   "source": []
  },
  {
   "cell_type": "code",
   "execution_count": null,
   "metadata": {},
   "outputs": [],
   "source": []
  }
 ],
 "metadata": {
  "kernelspec": {
   "display_name": "Python 3",
   "language": "python",
   "name": "python3"
  },
  "language_info": {
   "codemirror_mode": {
    "name": "ipython",
    "version": 3
   },
   "file_extension": ".py",
   "mimetype": "text/x-python",
   "name": "python",
   "nbconvert_exporter": "python",
   "pygments_lexer": "ipython3",
   "version": "3.6.4"
  }
 },
 "nbformat": 4,
 "nbformat_minor": 2
}
